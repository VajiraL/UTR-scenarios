{
 "cells": [
  {
   "cell_type": "code",
   "execution_count": 2,
   "id": "84069f7c",
   "metadata": {},
   "outputs": [],
   "source": [
    "from ipyleaflet import *\n",
    "import ipywidgets as widgets\n",
    "import rasterio as rio\n",
    "from matplotlib import pyplot as plt\n",
    "from rasterio.plot import show\n",
    "import numpy as np\n",
    "from IPython.display import display"
   ]
  },
  {
   "cell_type": "code",
   "execution_count": 9,
   "id": "2b349d6d",
   "metadata": {
    "scrolled": true
   },
   "outputs": [],
   "source": [
    "# Base map\n",
    "m = Map(basemap = basemaps.OpenStreetMap.Mapnik, center = (7.15,80), zoom = 10)\n",
    "\n",
    "# Data - Results of economic, environmental and social evaluation\n",
    "# paths\n",
    "\n",
    "p_out = 'scn_data/opt_out.tif'\n",
    "\n",
    "p_a1_econ = 'scn_data/ecn_a1.tif'\n",
    "p_a2_econ = 'scn_data/ecn_a2.tif'\n",
    "p_a3_econ = 'scn_data/ecn_a3.tif'\n",
    "p_a4_econ = 'scn_data/ecn_a4.tif'\n",
    "\n",
    "p_a1_env = 'scn_data/env_a1.tif'\n",
    "p_a2_env = 'scn_data/env_a2.tif'\n",
    "p_a3_env = 'scn_data/env_a3.tif'\n",
    "p_a4_env = 'scn_data/env_a4.tif'\n",
    "\n",
    "p_a1_soc = 'scn_data/soc_a1.tif'\n",
    "p_a2_soc = 'scn_data/soc_a2.tif'\n",
    "p_a3_soc = 'scn_data/soc_a3.tif'\n",
    "p_a4_soc = 'scn_data/soc_a4.tif'\n",
    "\n",
    "''''\n",
    "# Open as rasterio rasters\n",
    "a1_ecn = rio.open(p_a1_econ)\n",
    "a2_ecn = rio.open(p_a2_econ)\n",
    "a3_ecn = rio.open(p_a3_econ)\n",
    "a4_ecn = rio.open(p_a4_econ)\n",
    "\n",
    "a1_env = rio.open(p_a1_env)\n",
    "a2_env = rio.open(p_a2_env)\n",
    "a3_env = rio.open(p_a3_env)\n",
    "a4_env = rio.open(p_a4_env)\n",
    "\n",
    "a1_soc = rio.open(p_a1_soc)\n",
    "a2_soc = rio.open(p_a2_soc)\n",
    "a3_soc = rio.open(p_a3_soc)\n",
    "a4_soc = rio.open(p_a4_soc)\n",
    "'''\n",
    "\n",
    "# Open as rasterio rasters to numpy arrays\n",
    "a1_ecn = rio.open(p_a1_econ).read()\n",
    "a2_ecn = rio.open(p_a2_econ).read()\n",
    "a3_ecn = rio.open(p_a3_econ).read()\n",
    "a4_ecn = rio.open(p_a4_econ).read()\n",
    "\n",
    "a1_env = rio.open(p_a1_env).read()\n",
    "a2_env = rio.open(p_a2_env).read()\n",
    "a3_env = rio.open(p_a3_env).read()\n",
    "a4_env = rio.open(p_a4_env).read()\n",
    "\n",
    "a1_soc = rio.open(p_a1_soc).read()\n",
    "a2_soc = rio.open(p_a2_soc).read()\n",
    "a3_soc = rio.open(p_a3_soc).read()\n",
    "a4_soc = rio.open(p_a4_soc).read()\n",
    "\n",
    "opt_out = rio.open(p_out)"
   ]
  },
  {
   "cell_type": "code",
   "execution_count": 10,
   "id": "0f2017d5",
   "metadata": {},
   "outputs": [],
   "source": [
    "from ipywidgets import interact\n",
    "\n",
    "\n",
    "def score():\n",
    "    def view_image(k1,k2,k3):\n",
    "        a1 = k1*a1_ecn + k2*a1_env + k3*a1_soc\n",
    "        a2 = k1*a2_ecn + k2*a2_env + k3*a2_soc\n",
    "        a3 = k1*a3_ecn + k2*a3_env + k3*a3_soc\n",
    "        a4 = k1*a4_ecn + k2*a4_env + k3*a4_soc\n",
    "        optim = np.where((a1>a2) & (a1>a3) & (a1>a4), 1,0)\n",
    "        optim = np.where((a2>a1) & (a2>a3) & (a2>a4), 2,optim)\n",
    "        optim = np.where((a3>a1) & (a3>a2) & (a3>a4), 3,optim)\n",
    "        optim = np.where((a4>a1) & (a4>a3) & (a4>a1), 4,optim)\n",
    "        \n",
    "        plt.imshow(optim[0], cmap=plt.cm.tab10, interpolation='nearest')\n",
    "        #plt.title(\"Training: \", digits.target[i])\n",
    "        plt.show()\n",
    "    interact(view_image, k1=(0,10), k2=(0,10),k3=(0,10))\n",
    "    return\n"
   ]
  },
  {
   "cell_type": "code",
   "execution_count": 11,
   "id": "a18962ac",
   "metadata": {},
   "outputs": [
    {
     "data": {
      "application/vnd.jupyter.widget-view+json": {
       "model_id": "c3388ebc28ee472eba66f22a8123894e",
       "version_major": 2,
       "version_minor": 0
      },
      "text/plain": [
       "interactive(children=(IntSlider(value=5, description='k1', max=10), IntSlider(value=5, description='k2', max=1…"
      ]
     },
     "metadata": {},
     "output_type": "display_data"
    }
   ],
   "source": [
    "score()"
   ]
  }
 ],
 "metadata": {
  "kernelspec": {
   "display_name": "Python 3 (ipykernel)",
   "language": "python",
   "name": "python3"
  },
  "language_info": {
   "codemirror_mode": {
    "name": "ipython",
    "version": 3
   },
   "file_extension": ".py",
   "mimetype": "text/x-python",
   "name": "python",
   "nbconvert_exporter": "python",
   "pygments_lexer": "ipython3",
   "version": "3.7.12"
  }
 },
 "nbformat": 4,
 "nbformat_minor": 5
}
